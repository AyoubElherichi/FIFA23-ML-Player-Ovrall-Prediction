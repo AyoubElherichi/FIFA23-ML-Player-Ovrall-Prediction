{
  "cells": [
    {
      "cell_type": "markdown",
      "metadata": {
        "id": "VNqo8GP873HO"
      },
      "source": [
        "In this project, we will build a machine learning model to predict the `OVRALL` rating of a football player based on their individual attributes. We will use the `FIFA 23 complete player` dataset to train our model."
      ]
    },
    {
      "cell_type": "markdown",
      "metadata": {
        "id": "l6CIMf_W_YLl"
      },
      "source": [
        "## **1. Data exploration**"
      ]
    },
    {
      "cell_type": "code",
      "execution_count": null,
      "metadata": {
        "id": "ZOA-ftCr92gQ"
      },
      "outputs": [],
      "source": [
        "import pandas as pd\n",
        "#from google.colab import drive\n",
        "#drive.mount('/content/drive')\n",
        "#df_players = pd.read_csv('drive/MyDrive/male_players (legacy).csv')\n",
        "df_players = pd.read_csv('male_players (legacy).csv')"
      ]
    },
    {
      "cell_type": "markdown",
      "metadata": {
        "id": "oVypOrE8io_P"
      },
      "source": [
        "To get an idea about the dimensions of our data, we will apply the \".shape\" method to our dataset."
      ]
    },
    {
      "cell_type": "code",
      "execution_count": 4,
      "metadata": {
        "colab": {
          "base_uri": "https://localhost:8080/"
        },
        "id": "f8t9ehKCS2FP",
        "outputId": "c01db70e-b156-4520-9e8c-cdf60e368fcb"
      },
      "outputs": [
        {
          "output_type": "execute_result",
          "data": {
            "text/plain": [
              "(161583, 110)"
            ]
          },
          "metadata": {},
          "execution_count": 4
        }
      ],
      "source": [
        "df_players.shape"
      ]
    },
    {
      "cell_type": "markdown",
      "metadata": {
        "id": "xBJh9jcxh9HC"
      },
      "source": [
        "Let's Apply the `.info()` method of Pandas on the data to get an idea about the variables, column types, and the number of non-null values in each column."
      ]
    },
    {
      "cell_type": "code",
      "execution_count": 5,
      "metadata": {
        "colab": {
          "base_uri": "https://localhost:8080/"
        },
        "id": "ubKig1Dch-iY",
        "outputId": "090ea872-9f77-49e1-c913-00cdf21b5f90"
      },
      "outputs": [
        {
          "output_type": "stream",
          "name": "stdout",
          "text": [
            "<class 'pandas.core.frame.DataFrame'>\n",
            "RangeIndex: 161583 entries, 0 to 161582\n",
            "Columns: 110 entries, player_id to player_face_url\n",
            "dtypes: float64(18), int64(45), object(47)\n",
            "memory usage: 135.6+ MB\n"
          ]
        }
      ],
      "source": [
        "df_players.info()"
      ]
    },
    {
      "cell_type": "markdown",
      "metadata": {
        "id": "nAJUj8eGiGB4"
      },
      "source": [
        "Let's display the data description for all variables."
      ]
    },
    {
      "cell_type": "code",
      "execution_count": 6,
      "metadata": {
        "colab": {
          "base_uri": "https://localhost:8080/"
        },
        "id": "bnYwZBZUiG3O",
        "outputId": "1d64036c-6de8-4971-f935-eb481c444eee"
      },
      "outputs": [
        {
          "output_type": "stream",
          "name": "stdout",
          "text": [
            "            player_id                          player_url   fifa_version  \\\n",
            "count   161583.000000                              161583  161583.000000   \n",
            "unique            NaN                              161583            NaN   \n",
            "top               NaN  /player/158023/lionel-messi/150002            NaN   \n",
            "freq              NaN                                   1            NaN   \n",
            "mean    214484.722353                                 NaN      19.125514   \n",
            "std      34928.608856                                 NaN       2.559318   \n",
            "min          2.000000                                 NaN      15.000000   \n",
            "25%     199159.000000                                 NaN      17.000000   \n",
            "50%     220621.000000                                 NaN      19.000000   \n",
            "75%     236958.000000                                 NaN      21.000000   \n",
            "max     271817.000000                                 NaN      23.000000   \n",
            "\n",
            "        fifa_update fifa_update_date    short_name   long_name  \\\n",
            "count      161583.0           161583        161583      161583   \n",
            "unique          NaN                9         46053       50360   \n",
            "top             NaN       2021-09-23  J. Rodríguez  Danny Ward   \n",
            "freq            NaN            19239            86          18   \n",
            "mean            2.0              NaN           NaN         NaN   \n",
            "std             0.0              NaN           NaN         NaN   \n",
            "min             2.0              NaN           NaN         NaN   \n",
            "25%             2.0              NaN           NaN         NaN   \n",
            "50%             2.0              NaN           NaN         NaN   \n",
            "75%             2.0              NaN           NaN         NaN   \n",
            "max             2.0              NaN           NaN         NaN   \n",
            "\n",
            "       player_positions        overall      potential  ...     cdm     rdm  \\\n",
            "count            161583  161583.000000  161583.000000  ...  161583  161583   \n",
            "unique             1980            NaN            NaN  ...     429     429   \n",
            "top                  CB            NaN            NaN  ...    61+2    61+2   \n",
            "freq              20079            NaN            NaN  ...    2546    2546   \n",
            "mean                NaN      65.699071      70.744008  ...     NaN     NaN   \n",
            "std                 NaN       7.040855       6.259121  ...     NaN     NaN   \n",
            "min                 NaN      40.000000      40.000000  ...     NaN     NaN   \n",
            "25%                 NaN      61.000000      66.000000  ...     NaN     NaN   \n",
            "50%                 NaN      66.000000      70.000000  ...     NaN     NaN   \n",
            "75%                 NaN      70.000000      75.000000  ...     NaN     NaN   \n",
            "max                 NaN      94.000000      95.000000  ...     NaN     NaN   \n",
            "\n",
            "           rwb      lb     lcb      cb     rcb      rb      gk  \\\n",
            "count   161583  161583  161583  161583  161583  161583  161583   \n",
            "unique     397     393     475     475     475     393     297   \n",
            "top       60+2    62+2    63+2    63+2    63+2    62+2    16+2   \n",
            "freq      2820    2796    2125    2125    2125    2796   14882   \n",
            "mean       NaN     NaN     NaN     NaN     NaN     NaN     NaN   \n",
            "std        NaN     NaN     NaN     NaN     NaN     NaN     NaN   \n",
            "min        NaN     NaN     NaN     NaN     NaN     NaN     NaN   \n",
            "25%        NaN     NaN     NaN     NaN     NaN     NaN     NaN   \n",
            "50%        NaN     NaN     NaN     NaN     NaN     NaN     NaN   \n",
            "75%        NaN     NaN     NaN     NaN     NaN     NaN     NaN   \n",
            "max        NaN     NaN     NaN     NaN     NaN     NaN     NaN   \n",
            "\n",
            "                                          player_face_url  \n",
            "count                                              161583  \n",
            "unique                                             161581  \n",
            "top     https://cdn.sofifa.net/players/253/336/19_120.png  \n",
            "freq                                                    2  \n",
            "mean                                                  NaN  \n",
            "std                                                   NaN  \n",
            "min                                                   NaN  \n",
            "25%                                                   NaN  \n",
            "50%                                                   NaN  \n",
            "75%                                                   NaN  \n",
            "max                                                   NaN  \n",
            "\n",
            "[11 rows x 110 columns]\n"
          ]
        }
      ],
      "source": [
        "# We will use the \"include='all'\" argument to include all variables in the output\n",
        "print(df_players.describe(include='all'))"
      ]
    },
    {
      "cell_type": "markdown",
      "metadata": {
        "id": "Do2XpAPdiHNE"
      },
      "source": [
        "This time we will apply the `.describe()` method of Pandas on the data without passing the `include` parameter to display only continuous variables."
      ]
    },
    {
      "cell_type": "code",
      "execution_count": 7,
      "metadata": {
        "colab": {
          "base_uri": "https://localhost:8080/"
        },
        "id": "rfrIfWBwiNlS",
        "outputId": "aa5953fb-cc4a-4ed9-f325-8225a1cc4899"
      },
      "outputs": [
        {
          "output_type": "stream",
          "name": "stdout",
          "text": [
            "           player_id   fifa_version  fifa_update        overall  \\\n",
            "count  161583.000000  161583.000000     161583.0  161583.000000   \n",
            "mean   214484.722353      19.125514          2.0      65.699071   \n",
            "std     34928.608856       2.559318          0.0       7.040855   \n",
            "min         2.000000      15.000000          2.0      40.000000   \n",
            "25%    199159.000000      17.000000          2.0      61.000000   \n",
            "50%    220621.000000      19.000000          2.0      66.000000   \n",
            "75%    236958.000000      21.000000          2.0      70.000000   \n",
            "max    271817.000000      23.000000          2.0      94.000000   \n",
            "\n",
            "           potential     value_eur       wage_eur            age  \\\n",
            "count  161583.000000  1.595300e+05  159822.000000  161583.000000   \n",
            "mean       70.744008  2.326770e+06   10855.409768      25.123181   \n",
            "std         6.259121  6.005746e+06   21941.656285       4.670207   \n",
            "min        40.000000  1.000000e+03     500.000000      16.000000   \n",
            "25%        66.000000  3.250000e+05    2000.000000      21.000000   \n",
            "50%        70.000000  7.250000e+05    4000.000000      25.000000   \n",
            "75%        75.000000  1.800000e+06   10000.000000      28.000000   \n",
            "max        95.000000  1.940000e+08  575000.000000      54.000000   \n",
            "\n",
            "           height_cm      weight_kg  ...  mentality_composure  \\\n",
            "count  161583.000000  161583.000000  ...        128722.000000   \n",
            "mean      181.240205      75.235031  ...            57.816892   \n",
            "std         6.750148       7.000456  ...            12.329739   \n",
            "min       154.000000      49.000000  ...             3.000000   \n",
            "25%       176.000000      70.000000  ...            50.000000   \n",
            "50%       181.000000      75.000000  ...            59.000000   \n",
            "75%       186.000000      80.000000  ...            66.000000   \n",
            "max       208.000000     110.000000  ...            96.000000   \n",
            "\n",
            "       defending_marking_awareness  defending_standing_tackle  \\\n",
            "count                161583.000000              161583.000000   \n",
            "mean                     45.757957                  47.669996   \n",
            "std                      20.453699                  21.336404   \n",
            "min                       1.000000                   2.000000   \n",
            "25%                      26.000000                  27.000000   \n",
            "50%                      50.000000                  54.000000   \n",
            "75%                      63.000000                  66.000000   \n",
            "max                      94.000000                  94.000000   \n",
            "\n",
            "       defending_sliding_tackle  goalkeeping_diving  goalkeeping_handling  \\\n",
            "count             161583.000000        161583.00000         161583.000000   \n",
            "mean                  45.698588            16.52961             16.274918   \n",
            "std                   20.935273            17.67047             16.834294   \n",
            "min                    3.000000             1.00000              1.000000   \n",
            "25%                   25.000000             8.00000              8.000000   \n",
            "50%                   52.000000            11.00000             11.000000   \n",
            "75%                   64.000000            14.00000             14.000000   \n",
            "max                   95.000000            91.00000             92.000000   \n",
            "\n",
            "       goalkeeping_kicking  goalkeeping_positioning  goalkeeping_reflexes  \\\n",
            "count        161583.000000            161583.000000         161583.000000   \n",
            "mean             16.140374                16.288861             16.636973   \n",
            "std              16.476466                16.998697             17.980143   \n",
            "min               1.000000                 1.000000              1.000000   \n",
            "25%               8.000000                 8.000000              8.000000   \n",
            "50%              11.000000                11.000000             11.000000   \n",
            "75%              14.000000                14.000000             14.000000   \n",
            "max              95.000000                92.000000             94.000000   \n",
            "\n",
            "       goalkeeping_speed  \n",
            "count       17969.000000  \n",
            "mean           39.149090  \n",
            "std            10.503788  \n",
            "min            12.000000  \n",
            "25%            31.000000  \n",
            "50%            41.000000  \n",
            "75%            46.000000  \n",
            "max            68.000000  \n",
            "\n",
            "[8 rows x 63 columns]\n"
          ]
        }
      ],
      "source": [
        "\n",
        "print(df_players.describe())"
      ]
    },
    {
      "cell_type": "markdown",
      "metadata": {
        "id": "CydBF-J7_jQ4"
      },
      "source": [
        "##  **2. Data Preparation**\n",
        "###  **2.1. Identification and Removal of Missing Values**"
      ]
    },
    {
      "cell_type": "markdown",
      "metadata": {
        "id": "v6BXm_BGIkh8"
      },
      "source": [
        "The goal of our project is to predict the overall rating 'OVERALL' of a player based on their individual attributes such as pace, shooting, passing, dribbling, defending, and physicality. The focus in this step will be only on the columns containing these variables.\n",
        "\n",
        "Here are the names of the columns for these variables in the dataset:\n",
        "`'pace', 'shooting', 'passing', 'dribbling', 'defending', 'physic'`\n",
        "\n",
        "Here is the name of the target variable:\n",
        "`overall`"
      ]
    },
    {
      "cell_type": "markdown",
      "metadata": {
        "id": "XKEAqPQelr_P"
      },
      "source": [
        "##### **2.1.1. Identification of Missing Values**"
      ]
    },
    {
      "cell_type": "markdown",
      "metadata": {
        "id": "xrfyPXdSieps"
      },
      "source": [
        "Let's apply the `info()` method to see if there are any missing values in these columns."
      ]
    },
    {
      "cell_type": "code",
      "execution_count": 8,
      "metadata": {
        "colab": {
          "base_uri": "https://localhost:8080/"
        },
        "id": "8zh8T6XAjT1x",
        "outputId": "fee1ecc8-57a7-4909-f2fd-c517320f5810"
      },
      "outputs": [
        {
          "output_type": "stream",
          "name": "stdout",
          "text": [
            "<class 'pandas.core.frame.DataFrame'>\n",
            "RangeIndex: 161583 entries, 0 to 161582\n",
            "Data columns (total 7 columns):\n",
            " #   Column     Non-Null Count   Dtype  \n",
            "---  ------     --------------   -----  \n",
            " 0   overall    161583 non-null  int64  \n",
            " 1   pace       143614 non-null  float64\n",
            " 2   shooting   143614 non-null  float64\n",
            " 3   passing    143614 non-null  float64\n",
            " 4   dribbling  143614 non-null  float64\n",
            " 5   defending  143614 non-null  float64\n",
            " 6   physic     143614 non-null  float64\n",
            "dtypes: float64(6), int64(1)\n",
            "memory usage: 8.6 MB\n"
          ]
        }
      ],
      "source": [
        "df_players[['overall','pace', 'shooting', 'passing', 'dribbling', 'defending', 'physic']].info()\n"
      ]
    },
    {
      "cell_type": "markdown",
      "metadata": {
        "id": "HWNjAiagrO4d"
      },
      "source": [
        "According to the result, we notice that our relevant columns contain missing values.\n",
        "<br><br>"
      ]
    },
    {
      "cell_type": "markdown",
      "metadata": {
        "id": "PY0jVvqikLDu"
      },
      "source": [
        "To calculate the number of missing values in each column, we will apply the `isna()` and `sum()` methods simultaneously on our dataset, specifying the names of these columns.\n"
      ]
    },
    {
      "cell_type": "code",
      "execution_count": 9,
      "metadata": {
        "colab": {
          "base_uri": "https://localhost:8080/"
        },
        "id": "HzMAk5t7ckyG",
        "outputId": "44bf76a1-362e-4129-e5d9-fe2b731f08f6"
      },
      "outputs": [
        {
          "output_type": "execute_result",
          "data": {
            "text/plain": [
              "overall          0\n",
              "pace         17969\n",
              "shooting     17969\n",
              "passing      17969\n",
              "dribbling    17969\n",
              "defending    17969\n",
              "physic       17969\n",
              "dtype: int64"
            ]
          },
          "metadata": {},
          "execution_count": 9
        }
      ],
      "source": [
        "df_players[['overall','pace', 'shooting', 'passing', 'dribbling', 'defending', 'physic']].isna().sum()"
      ]
    },
    {
      "cell_type": "markdown",
      "metadata": {
        "id": "EDbWC9Tdk7TQ"
      },
      "source": [
        "We can see that we have 17969 missing values in each column."
      ]
    },
    {
      "cell_type": "markdown",
      "metadata": {
        "id": "4CiOet79lQ4T"
      },
      "source": [
        "#####  **2.1.2. Removal of Missing Values**"
      ]
    },
    {
      "cell_type": "markdown",
      "metadata": {
        "id": "l3keJiT5sMJV"
      },
      "source": [
        "To remove all rows corresponding to the columns with missing values, we will apply the `dropna(subset=columns)` method on the dataset. The `subset` parameter allows specifying the columns on which the deletion will be applied."
      ]
    },
    {
      "cell_type": "code",
      "execution_count": 10,
      "metadata": {
        "id": "FQFDBKgsULQg"
      },
      "outputs": [],
      "source": [
        "cols_val_nan = ['overall','pace', 'shooting', 'passing', 'dribbling', 'defending', 'physic']\n",
        "\n",
        "df_players_cols_drop_nan = df_players.dropna(subset=cols_val_nan)"
      ]
    },
    {
      "cell_type": "markdown",
      "metadata": {
        "id": "urHj-b76wFCp"
      },
      "source": [
        "<br>\n",
        "Let's check if the missing values have been successfully removed."
      ]
    },
    {
      "cell_type": "code",
      "execution_count": 11,
      "metadata": {
        "colab": {
          "base_uri": "https://localhost:8080/"
        },
        "id": "mHsvQGlGwfr9",
        "outputId": "9fa2ae3e-5735-4ea4-e077-9bf944e14ef1"
      },
      "outputs": [
        {
          "output_type": "execute_result",
          "data": {
            "text/plain": [
              "overall      0\n",
              "pace         0\n",
              "shooting     0\n",
              "passing      0\n",
              "dribbling    0\n",
              "defending    0\n",
              "physic       0\n",
              "dtype: int64"
            ]
          },
          "metadata": {},
          "execution_count": 11
        }
      ],
      "source": [
        "df_players_cols_drop_nan[['overall','pace', 'shooting', 'passing', 'dribbling', 'defending', 'physic']].isna().sum()"
      ]
    },
    {
      "cell_type": "markdown",
      "metadata": {
        "id": "1StuxrWhwx2V"
      },
      "source": [
        "Great! The missing values have been successfully removed."
      ]
    },
    {
      "cell_type": "markdown",
      "metadata": {
        "id": "GwNlN2DhJ0Yu"
      },
      "source": [
        "###  **2.2. Dimensionality Reduction**"
      ]
    },
    {
      "cell_type": "markdown",
      "metadata": {
        "id": "VAM5PvxPyLja"
      },
      "source": [
        "For building our model, we will not need all variables from the dataset. As we have already specified the variables we will work with: `'overall', 'pace', 'shooting', 'passing', 'dribbling', 'defending', 'physic'`, with `overall` being the target variable.\n",
        "\n",
        "Therefore, we will create a new reduced DataFrame containing only the variables we need, based on the `df_players` DataFrame."
      ]
    },
    {
      "cell_type": "code",
      "execution_count": 12,
      "metadata": {
        "colab": {
          "base_uri": "https://localhost:8080/"
        },
        "id": "E8bh2jcdXHIa",
        "outputId": "6b3322f7-4add-4dc7-af84-f4791ecbe2a2"
      },
      "outputs": [
        {
          "output_type": "stream",
          "name": "stdout",
          "text": [
            "Index(['overall', 'pace', 'shooting', 'passing', 'dribbling', 'defending',\n",
            "       'physic'],\n",
            "      dtype='object')\n"
          ]
        }
      ],
      "source": [
        "# Let's specify the columns we want to keep\n",
        "cols_to_keep = ['overall','pace', 'shooting', 'passing', 'dribbling', 'defending', 'physic']\n",
        "\n",
        "# Let's Create the new DataFrame containing only the specified columns\n",
        "df_players_reduced = df_players_cols_drop_nan[cols_to_keep]\n",
        "\n",
        "# Let's Display the columns of the new created DataFrame\n",
        "print(df_players_reduced.columns)"
      ]
    },
    {
      "cell_type": "markdown",
      "metadata": {
        "id": "3l7JF5us5I-o"
      },
      "source": [
        "So there you go, our reduced DataFrame has been created under the name `df_players_reduced`."
      ]
    },
    {
      "cell_type": "markdown",
      "metadata": {
        "id": "fM1-CQDcJVhO"
      },
      "source": [
        "###  **2.3. Variable Transformation**"
      ]
    },
    {
      "cell_type": "markdown",
      "metadata": {
        "id": "7FCoLhfVLl2a"
      },
      "source": [
        "It is a good practice to scale numerical variables of different magnitudes (scaling / normalization).\n",
        "\n",
        "The goal of the scaling we are going to do is to have values between 0 and 1.\n",
        "\n",
        "`min-max scaling` is one method among others that allows normalization.\n",
        "\n",
        "To perform `min-max scaling` on our variables, we will use the `sklearn.preprocessing` library to be able to use the `MinMaxScaler` transformer."
      ]
    },
    {
      "cell_type": "code",
      "execution_count": 13,
      "metadata": {
        "colab": {
          "base_uri": "https://localhost:8080/",
          "height": 404
        },
        "id": "Nj0lMhhS9ylt",
        "outputId": "103c6a11-de56-4fa6-ad93-886368b4106c"
      },
      "outputs": [
        {
          "output_type": "stream",
          "name": "stderr",
          "text": [
            "<ipython-input-13-9a7935a02f87>:13: SettingWithCopyWarning: \n",
            "A value is trying to be set on a copy of a slice from a DataFrame.\n",
            "Try using .loc[row_indexer,col_indexer] = value instead\n",
            "\n",
            "See the caveats in the documentation: https://pandas.pydata.org/pandas-docs/stable/user_guide/indexing.html#returning-a-view-versus-a-copy\n",
            "  scaled_data[cols_to_scale] = scaler.fit_transform(scaled_data[cols_to_scale])\n"
          ]
        },
        {
          "output_type": "execute_result",
          "data": {
            "text/plain": [
              "             overall           pace       shooting        passing  \\\n",
              "count  143614.000000  143614.000000  143614.000000  143614.000000   \n",
              "mean       65.875256       0.618719       0.477885       0.506002   \n",
              "std         6.936580       0.146001       0.174024       0.143624   \n",
              "min        40.000000       0.000000       0.000000       0.000000   \n",
              "25%        61.000000       0.539474       0.350000       0.410959   \n",
              "50%        66.000000       0.631579       0.500000       0.520548   \n",
              "75%        70.000000       0.723684       0.612500       0.602740   \n",
              "max        94.000000       1.000000       1.000000       1.000000   \n",
              "\n",
              "           dribbling      defending         physic  \n",
              "count  143614.000000  143614.000000  143614.000000  \n",
              "mean        0.541647       0.482251       0.581759  \n",
              "std         0.139207       0.216099       0.149801  \n",
              "min         0.000000       0.000000       0.000000  \n",
              "25%         0.459459       0.285714       0.476923  \n",
              "50%         0.554054       0.545455       0.600000  \n",
              "75%         0.635135       0.649351       0.692308  \n",
              "max         1.000000       1.000000       1.000000  "
            ],
            "text/html": [
              "\n",
              "  <div id=\"df-da860e7b-fb94-430d-88af-75fc3cd6cb40\" class=\"colab-df-container\">\n",
              "    <div>\n",
              "<style scoped>\n",
              "    .dataframe tbody tr th:only-of-type {\n",
              "        vertical-align: middle;\n",
              "    }\n",
              "\n",
              "    .dataframe tbody tr th {\n",
              "        vertical-align: top;\n",
              "    }\n",
              "\n",
              "    .dataframe thead th {\n",
              "        text-align: right;\n",
              "    }\n",
              "</style>\n",
              "<table border=\"1\" class=\"dataframe\">\n",
              "  <thead>\n",
              "    <tr style=\"text-align: right;\">\n",
              "      <th></th>\n",
              "      <th>overall</th>\n",
              "      <th>pace</th>\n",
              "      <th>shooting</th>\n",
              "      <th>passing</th>\n",
              "      <th>dribbling</th>\n",
              "      <th>defending</th>\n",
              "      <th>physic</th>\n",
              "    </tr>\n",
              "  </thead>\n",
              "  <tbody>\n",
              "    <tr>\n",
              "      <th>count</th>\n",
              "      <td>143614.000000</td>\n",
              "      <td>143614.000000</td>\n",
              "      <td>143614.000000</td>\n",
              "      <td>143614.000000</td>\n",
              "      <td>143614.000000</td>\n",
              "      <td>143614.000000</td>\n",
              "      <td>143614.000000</td>\n",
              "    </tr>\n",
              "    <tr>\n",
              "      <th>mean</th>\n",
              "      <td>65.875256</td>\n",
              "      <td>0.618719</td>\n",
              "      <td>0.477885</td>\n",
              "      <td>0.506002</td>\n",
              "      <td>0.541647</td>\n",
              "      <td>0.482251</td>\n",
              "      <td>0.581759</td>\n",
              "    </tr>\n",
              "    <tr>\n",
              "      <th>std</th>\n",
              "      <td>6.936580</td>\n",
              "      <td>0.146001</td>\n",
              "      <td>0.174024</td>\n",
              "      <td>0.143624</td>\n",
              "      <td>0.139207</td>\n",
              "      <td>0.216099</td>\n",
              "      <td>0.149801</td>\n",
              "    </tr>\n",
              "    <tr>\n",
              "      <th>min</th>\n",
              "      <td>40.000000</td>\n",
              "      <td>0.000000</td>\n",
              "      <td>0.000000</td>\n",
              "      <td>0.000000</td>\n",
              "      <td>0.000000</td>\n",
              "      <td>0.000000</td>\n",
              "      <td>0.000000</td>\n",
              "    </tr>\n",
              "    <tr>\n",
              "      <th>25%</th>\n",
              "      <td>61.000000</td>\n",
              "      <td>0.539474</td>\n",
              "      <td>0.350000</td>\n",
              "      <td>0.410959</td>\n",
              "      <td>0.459459</td>\n",
              "      <td>0.285714</td>\n",
              "      <td>0.476923</td>\n",
              "    </tr>\n",
              "    <tr>\n",
              "      <th>50%</th>\n",
              "      <td>66.000000</td>\n",
              "      <td>0.631579</td>\n",
              "      <td>0.500000</td>\n",
              "      <td>0.520548</td>\n",
              "      <td>0.554054</td>\n",
              "      <td>0.545455</td>\n",
              "      <td>0.600000</td>\n",
              "    </tr>\n",
              "    <tr>\n",
              "      <th>75%</th>\n",
              "      <td>70.000000</td>\n",
              "      <td>0.723684</td>\n",
              "      <td>0.612500</td>\n",
              "      <td>0.602740</td>\n",
              "      <td>0.635135</td>\n",
              "      <td>0.649351</td>\n",
              "      <td>0.692308</td>\n",
              "    </tr>\n",
              "    <tr>\n",
              "      <th>max</th>\n",
              "      <td>94.000000</td>\n",
              "      <td>1.000000</td>\n",
              "      <td>1.000000</td>\n",
              "      <td>1.000000</td>\n",
              "      <td>1.000000</td>\n",
              "      <td>1.000000</td>\n",
              "      <td>1.000000</td>\n",
              "    </tr>\n",
              "  </tbody>\n",
              "</table>\n",
              "</div>\n",
              "    <div class=\"colab-df-buttons\">\n",
              "\n",
              "  <div class=\"colab-df-container\">\n",
              "    <button class=\"colab-df-convert\" onclick=\"convertToInteractive('df-da860e7b-fb94-430d-88af-75fc3cd6cb40')\"\n",
              "            title=\"Convert this dataframe to an interactive table.\"\n",
              "            style=\"display:none;\">\n",
              "\n",
              "  <svg xmlns=\"http://www.w3.org/2000/svg\" height=\"24px\" viewBox=\"0 -960 960 960\">\n",
              "    <path d=\"M120-120v-720h720v720H120Zm60-500h600v-160H180v160Zm220 220h160v-160H400v160Zm0 220h160v-160H400v160ZM180-400h160v-160H180v160Zm440 0h160v-160H620v160ZM180-180h160v-160H180v160Zm440 0h160v-160H620v160Z\"/>\n",
              "  </svg>\n",
              "    </button>\n",
              "\n",
              "  <style>\n",
              "    .colab-df-container {\n",
              "      display:flex;\n",
              "      gap: 12px;\n",
              "    }\n",
              "\n",
              "    .colab-df-convert {\n",
              "      background-color: #E8F0FE;\n",
              "      border: none;\n",
              "      border-radius: 50%;\n",
              "      cursor: pointer;\n",
              "      display: none;\n",
              "      fill: #1967D2;\n",
              "      height: 32px;\n",
              "      padding: 0 0 0 0;\n",
              "      width: 32px;\n",
              "    }\n",
              "\n",
              "    .colab-df-convert:hover {\n",
              "      background-color: #E2EBFA;\n",
              "      box-shadow: 0px 1px 2px rgba(60, 64, 67, 0.3), 0px 1px 3px 1px rgba(60, 64, 67, 0.15);\n",
              "      fill: #174EA6;\n",
              "    }\n",
              "\n",
              "    .colab-df-buttons div {\n",
              "      margin-bottom: 4px;\n",
              "    }\n",
              "\n",
              "    [theme=dark] .colab-df-convert {\n",
              "      background-color: #3B4455;\n",
              "      fill: #D2E3FC;\n",
              "    }\n",
              "\n",
              "    [theme=dark] .colab-df-convert:hover {\n",
              "      background-color: #434B5C;\n",
              "      box-shadow: 0px 1px 3px 1px rgba(0, 0, 0, 0.15);\n",
              "      filter: drop-shadow(0px 1px 2px rgba(0, 0, 0, 0.3));\n",
              "      fill: #FFFFFF;\n",
              "    }\n",
              "  </style>\n",
              "\n",
              "    <script>\n",
              "      const buttonEl =\n",
              "        document.querySelector('#df-da860e7b-fb94-430d-88af-75fc3cd6cb40 button.colab-df-convert');\n",
              "      buttonEl.style.display =\n",
              "        google.colab.kernel.accessAllowed ? 'block' : 'none';\n",
              "\n",
              "      async function convertToInteractive(key) {\n",
              "        const element = document.querySelector('#df-da860e7b-fb94-430d-88af-75fc3cd6cb40');\n",
              "        const dataTable =\n",
              "          await google.colab.kernel.invokeFunction('convertToInteractive',\n",
              "                                                    [key], {});\n",
              "        if (!dataTable) return;\n",
              "\n",
              "        const docLinkHtml = 'Like what you see? Visit the ' +\n",
              "          '<a target=\"_blank\" href=https://colab.research.google.com/notebooks/data_table.ipynb>data table notebook</a>'\n",
              "          + ' to learn more about interactive tables.';\n",
              "        element.innerHTML = '';\n",
              "        dataTable['output_type'] = 'display_data';\n",
              "        await google.colab.output.renderOutput(dataTable, element);\n",
              "        const docLink = document.createElement('div');\n",
              "        docLink.innerHTML = docLinkHtml;\n",
              "        element.appendChild(docLink);\n",
              "      }\n",
              "    </script>\n",
              "  </div>\n",
              "\n",
              "\n",
              "<div id=\"df-010fa04b-9879-45f2-8743-c73125144ee7\">\n",
              "  <button class=\"colab-df-quickchart\" onclick=\"quickchart('df-010fa04b-9879-45f2-8743-c73125144ee7')\"\n",
              "            title=\"Suggest charts\"\n",
              "            style=\"display:none;\">\n",
              "\n",
              "<svg xmlns=\"http://www.w3.org/2000/svg\" height=\"24px\"viewBox=\"0 0 24 24\"\n",
              "     width=\"24px\">\n",
              "    <g>\n",
              "        <path d=\"M19 3H5c-1.1 0-2 .9-2 2v14c0 1.1.9 2 2 2h14c1.1 0 2-.9 2-2V5c0-1.1-.9-2-2-2zM9 17H7v-7h2v7zm4 0h-2V7h2v10zm4 0h-2v-4h2v4z\"/>\n",
              "    </g>\n",
              "</svg>\n",
              "  </button>\n",
              "\n",
              "<style>\n",
              "  .colab-df-quickchart {\n",
              "      --bg-color: #E8F0FE;\n",
              "      --fill-color: #1967D2;\n",
              "      --hover-bg-color: #E2EBFA;\n",
              "      --hover-fill-color: #174EA6;\n",
              "      --disabled-fill-color: #AAA;\n",
              "      --disabled-bg-color: #DDD;\n",
              "  }\n",
              "\n",
              "  [theme=dark] .colab-df-quickchart {\n",
              "      --bg-color: #3B4455;\n",
              "      --fill-color: #D2E3FC;\n",
              "      --hover-bg-color: #434B5C;\n",
              "      --hover-fill-color: #FFFFFF;\n",
              "      --disabled-bg-color: #3B4455;\n",
              "      --disabled-fill-color: #666;\n",
              "  }\n",
              "\n",
              "  .colab-df-quickchart {\n",
              "    background-color: var(--bg-color);\n",
              "    border: none;\n",
              "    border-radius: 50%;\n",
              "    cursor: pointer;\n",
              "    display: none;\n",
              "    fill: var(--fill-color);\n",
              "    height: 32px;\n",
              "    padding: 0;\n",
              "    width: 32px;\n",
              "  }\n",
              "\n",
              "  .colab-df-quickchart:hover {\n",
              "    background-color: var(--hover-bg-color);\n",
              "    box-shadow: 0 1px 2px rgba(60, 64, 67, 0.3), 0 1px 3px 1px rgba(60, 64, 67, 0.15);\n",
              "    fill: var(--button-hover-fill-color);\n",
              "  }\n",
              "\n",
              "  .colab-df-quickchart-complete:disabled,\n",
              "  .colab-df-quickchart-complete:disabled:hover {\n",
              "    background-color: var(--disabled-bg-color);\n",
              "    fill: var(--disabled-fill-color);\n",
              "    box-shadow: none;\n",
              "  }\n",
              "\n",
              "  .colab-df-spinner {\n",
              "    border: 2px solid var(--fill-color);\n",
              "    border-color: transparent;\n",
              "    border-bottom-color: var(--fill-color);\n",
              "    animation:\n",
              "      spin 1s steps(1) infinite;\n",
              "  }\n",
              "\n",
              "  @keyframes spin {\n",
              "    0% {\n",
              "      border-color: transparent;\n",
              "      border-bottom-color: var(--fill-color);\n",
              "      border-left-color: var(--fill-color);\n",
              "    }\n",
              "    20% {\n",
              "      border-color: transparent;\n",
              "      border-left-color: var(--fill-color);\n",
              "      border-top-color: var(--fill-color);\n",
              "    }\n",
              "    30% {\n",
              "      border-color: transparent;\n",
              "      border-left-color: var(--fill-color);\n",
              "      border-top-color: var(--fill-color);\n",
              "      border-right-color: var(--fill-color);\n",
              "    }\n",
              "    40% {\n",
              "      border-color: transparent;\n",
              "      border-right-color: var(--fill-color);\n",
              "      border-top-color: var(--fill-color);\n",
              "    }\n",
              "    60% {\n",
              "      border-color: transparent;\n",
              "      border-right-color: var(--fill-color);\n",
              "    }\n",
              "    80% {\n",
              "      border-color: transparent;\n",
              "      border-right-color: var(--fill-color);\n",
              "      border-bottom-color: var(--fill-color);\n",
              "    }\n",
              "    90% {\n",
              "      border-color: transparent;\n",
              "      border-bottom-color: var(--fill-color);\n",
              "    }\n",
              "  }\n",
              "</style>\n",
              "\n",
              "  <script>\n",
              "    async function quickchart(key) {\n",
              "      const quickchartButtonEl =\n",
              "        document.querySelector('#' + key + ' button');\n",
              "      quickchartButtonEl.disabled = true;  // To prevent multiple clicks.\n",
              "      quickchartButtonEl.classList.add('colab-df-spinner');\n",
              "      try {\n",
              "        const charts = await google.colab.kernel.invokeFunction(\n",
              "            'suggestCharts', [key], {});\n",
              "      } catch (error) {\n",
              "        console.error('Error during call to suggestCharts:', error);\n",
              "      }\n",
              "      quickchartButtonEl.classList.remove('colab-df-spinner');\n",
              "      quickchartButtonEl.classList.add('colab-df-quickchart-complete');\n",
              "    }\n",
              "    (() => {\n",
              "      let quickchartButtonEl =\n",
              "        document.querySelector('#df-010fa04b-9879-45f2-8743-c73125144ee7 button');\n",
              "      quickchartButtonEl.style.display =\n",
              "        google.colab.kernel.accessAllowed ? 'block' : 'none';\n",
              "    })();\n",
              "  </script>\n",
              "</div>\n",
              "\n",
              "    </div>\n",
              "  </div>\n"
            ]
          },
          "metadata": {},
          "execution_count": 13
        }
      ],
      "source": [
        "from sklearn.preprocessing import MinMaxScaler\n",
        "\n",
        "# Let's Create a copy of our reduced DataFrame\n",
        "scaled_data = df_players_reduced\n",
        "\n",
        "# Select the columns to scale\n",
        "cols_to_scale = ['pace', 'shooting', 'passing', 'dribbling', 'defending', 'physic']\n",
        "\n",
        "# Let's Initialize the MinMaxScaler transformer\n",
        "scaler = MinMaxScaler()\n",
        "\n",
        "# Let's Fit and transform the data\n",
        "scaled_data[cols_to_scale] = scaler.fit_transform(scaled_data[cols_to_scale])\n",
        "\n",
        "# Let's Display the scaled data\n",
        "scaled_data.describe()"
      ]
    },
    {
      "cell_type": "markdown",
      "metadata": {
        "id": "ZM_gMmgh62Kd"
      },
      "source": [
        "Our numerical variables now have values between 0 and 1."
      ]
    },
    {
      "cell_type": "markdown",
      "metadata": {
        "id": "zO3EfsupKjGP"
      },
      "source": [
        "###  **2.4. Data Splitting**"
      ]
    },
    {
      "cell_type": "markdown",
      "metadata": {
        "id": "ILDNwpFvOI4x"
      },
      "source": [
        "It is important to split the data into training and test sets to build the model.\n",
        "\n",
        "We will use the `train_test_split()` function from the `scikit learn` Machine Learning library. We will reserve 20% of the data for testing."
      ]
    },
    {
      "cell_type": "code",
      "execution_count": 14,
      "metadata": {
        "colab": {
          "base_uri": "https://localhost:8080/"
        },
        "id": "Se0rjZNJMr4B",
        "outputId": "969dcb79-b9c9-416b-dacd-c3a0bdbced08"
      },
      "outputs": [
        {
          "output_type": "stream",
          "name": "stdout",
          "text": [
            "(114891, 7)\n",
            "(28723, 7)\n"
          ]
        }
      ],
      "source": [
        "from sklearn.model_selection import train_test_split\n",
        "\n",
        "data_train,data_test,  = train_test_split(scaled_data, test_size = 0.2, random_state=0)\n",
        "print(data_train.shape)\n",
        "print(data_test.shape)"
      ]
    },
    {
      "cell_type": "markdown",
      "metadata": {
        "id": "DT1lQsHMRllL"
      },
      "source": [
        "Let's separate the features from the target variable `overall`.\n",
        "\n",
        "Our goal is to predict the variable `overall`."
      ]
    },
    {
      "cell_type": "code",
      "execution_count": 15,
      "metadata": {
        "colab": {
          "base_uri": "https://localhost:8080/"
        },
        "id": "SKJHqyOtR4hc",
        "outputId": "082474e9-f17f-4d4b-ebdd-78019c887f33"
      },
      "outputs": [
        {
          "output_type": "stream",
          "name": "stdout",
          "text": [
            "(114891, 6)\n",
            "(114891,)\n"
          ]
        }
      ],
      "source": [
        "# Let's Create a new variable X_train containing the same data as data_train\n",
        "X_train = data_train\n",
        "\n",
        "# Let's Drop the 'overall' column from X_train\n",
        "X_train = X_train.drop(columns=['overall'])\n",
        "\n",
        "# Let's Create a new variable y_train containing only the values of the 'overall' column from data_train\n",
        "y_train = data_train['overall']\n",
        "\n",
        "# Let's Display the dimensions of X_train and y_train\n",
        "print(X_train.shape)\n",
        "print(y_train.shape)"
      ]
    },
    {
      "cell_type": "code",
      "execution_count": 16,
      "metadata": {
        "colab": {
          "base_uri": "https://localhost:8080/"
        },
        "id": "BMFHVKZ5SN64",
        "outputId": "147b82a6-5c18-4ed6-ebbd-8d16479f0f70"
      },
      "outputs": [
        {
          "output_type": "stream",
          "name": "stdout",
          "text": [
            "(28723, 6)\n",
            "(28723,)\n"
          ]
        }
      ],
      "source": [
        "# Let's Create a new variable X_test containing the same data as data_test\n",
        "X_test = data_test\n",
        "\n",
        "# Let's Drop the 'overall' column from X_test\n",
        "X_test = X_test.drop(columns=['overall'])\n",
        "\n",
        "# Let's Create a new variable y_test from 'data_test' dataset containing only the values of the 'overall' column\n",
        "y_test = data_test['overall']\n",
        "\n",
        "# Let's Display the dimensions of X_test and y_test\n",
        "print(X_test.shape)\n",
        "print(y_test.shape)"
      ]
    },
    {
      "cell_type": "markdown",
      "metadata": {
        "id": "QHPXG3OGMr5T"
      },
      "source": [
        "##  **3. Linear Regression Model Building**"
      ]
    },
    {
      "cell_type": "markdown",
      "metadata": {
        "id": "69XiteIjz3dn"
      },
      "source": [
        "We want to build a linear regression model to predict the variable `overall`. To do so, we need to follow the following steps:\n",
        "\n",
        "1. Instantiate a LinearRegression object\n",
        "2. Train the model on the training data\n",
        "3. Calculate predictions on the test data"
      ]
    },
    {
      "cell_type": "markdown",
      "metadata": {
        "id": "SYBIHaqgPyF_"
      },
      "source": [
        "####  **3.1. Building the Model**\n",
        "\n",
        "To perform the first step, we will need to use the `scikit learn` Machine Learning library."
      ]
    },
    {
      "cell_type": "code",
      "execution_count": 17,
      "metadata": {
        "id": "GowColQ5Pk5Y"
      },
      "outputs": [],
      "source": [
        "from sklearn import linear_model\n",
        "from sklearn.linear_model import LinearRegression\n",
        "\n",
        "# Let's Instantiate a LinearRegression object\n",
        "lin_reg_model = LinearRegression()"
      ]
    },
    {
      "cell_type": "markdown",
      "metadata": {
        "id": "bYva6oNtPlZj"
      },
      "source": [
        "The `lin_reg_model` model is now ready to be trained on training data.<br><br>"
      ]
    },
    {
      "cell_type": "markdown",
      "metadata": {
        "id": "92TKqlh0RV05"
      },
      "source": [
        "To train our model on the training set, we will use the `.fit` function."
      ]
    },
    {
      "cell_type": "code",
      "execution_count": 18,
      "metadata": {
        "colab": {
          "base_uri": "https://localhost:8080/",
          "height": 75
        },
        "id": "jNJICWpiSW8v",
        "outputId": "99e072cf-c8d9-4108-db0d-bc9350d110fc"
      },
      "outputs": [
        {
          "output_type": "execute_result",
          "data": {
            "text/plain": [
              "LinearRegression()"
            ],
            "text/html": [
              "<style>#sk-container-id-1 {color: black;background-color: white;}#sk-container-id-1 pre{padding: 0;}#sk-container-id-1 div.sk-toggleable {background-color: white;}#sk-container-id-1 label.sk-toggleable__label {cursor: pointer;display: block;width: 100%;margin-bottom: 0;padding: 0.3em;box-sizing: border-box;text-align: center;}#sk-container-id-1 label.sk-toggleable__label-arrow:before {content: \"▸\";float: left;margin-right: 0.25em;color: #696969;}#sk-container-id-1 label.sk-toggleable__label-arrow:hover:before {color: black;}#sk-container-id-1 div.sk-estimator:hover label.sk-toggleable__label-arrow:before {color: black;}#sk-container-id-1 div.sk-toggleable__content {max-height: 0;max-width: 0;overflow: hidden;text-align: left;background-color: #f0f8ff;}#sk-container-id-1 div.sk-toggleable__content pre {margin: 0.2em;color: black;border-radius: 0.25em;background-color: #f0f8ff;}#sk-container-id-1 input.sk-toggleable__control:checked~div.sk-toggleable__content {max-height: 200px;max-width: 100%;overflow: auto;}#sk-container-id-1 input.sk-toggleable__control:checked~label.sk-toggleable__label-arrow:before {content: \"▾\";}#sk-container-id-1 div.sk-estimator input.sk-toggleable__control:checked~label.sk-toggleable__label {background-color: #d4ebff;}#sk-container-id-1 div.sk-label input.sk-toggleable__control:checked~label.sk-toggleable__label {background-color: #d4ebff;}#sk-container-id-1 input.sk-hidden--visually {border: 0;clip: rect(1px 1px 1px 1px);clip: rect(1px, 1px, 1px, 1px);height: 1px;margin: -1px;overflow: hidden;padding: 0;position: absolute;width: 1px;}#sk-container-id-1 div.sk-estimator {font-family: monospace;background-color: #f0f8ff;border: 1px dotted black;border-radius: 0.25em;box-sizing: border-box;margin-bottom: 0.5em;}#sk-container-id-1 div.sk-estimator:hover {background-color: #d4ebff;}#sk-container-id-1 div.sk-parallel-item::after {content: \"\";width: 100%;border-bottom: 1px solid gray;flex-grow: 1;}#sk-container-id-1 div.sk-label:hover label.sk-toggleable__label {background-color: #d4ebff;}#sk-container-id-1 div.sk-serial::before {content: \"\";position: absolute;border-left: 1px solid gray;box-sizing: border-box;top: 0;bottom: 0;left: 50%;z-index: 0;}#sk-container-id-1 div.sk-serial {display: flex;flex-direction: column;align-items: center;background-color: white;padding-right: 0.2em;padding-left: 0.2em;position: relative;}#sk-container-id-1 div.sk-item {position: relative;z-index: 1;}#sk-container-id-1 div.sk-parallel {display: flex;align-items: stretch;justify-content: center;background-color: white;position: relative;}#sk-container-id-1 div.sk-item::before, #sk-container-id-1 div.sk-parallel-item::before {content: \"\";position: absolute;border-left: 1px solid gray;box-sizing: border-box;top: 0;bottom: 0;left: 50%;z-index: -1;}#sk-container-id-1 div.sk-parallel-item {display: flex;flex-direction: column;z-index: 1;position: relative;background-color: white;}#sk-container-id-1 div.sk-parallel-item:first-child::after {align-self: flex-end;width: 50%;}#sk-container-id-1 div.sk-parallel-item:last-child::after {align-self: flex-start;width: 50%;}#sk-container-id-1 div.sk-parallel-item:only-child::after {width: 0;}#sk-container-id-1 div.sk-dashed-wrapped {border: 1px dashed gray;margin: 0 0.4em 0.5em 0.4em;box-sizing: border-box;padding-bottom: 0.4em;background-color: white;}#sk-container-id-1 div.sk-label label {font-family: monospace;font-weight: bold;display: inline-block;line-height: 1.2em;}#sk-container-id-1 div.sk-label-container {text-align: center;}#sk-container-id-1 div.sk-container {/* jupyter's `normalize.less` sets `[hidden] { display: none; }` but bootstrap.min.css set `[hidden] { display: none !important; }` so we also need the `!important` here to be able to override the default hidden behavior on the sphinx rendered scikit-learn.org. See: https://github.com/scikit-learn/scikit-learn/issues/21755 */display: inline-block !important;position: relative;}#sk-container-id-1 div.sk-text-repr-fallback {display: none;}</style><div id=\"sk-container-id-1\" class=\"sk-top-container\"><div class=\"sk-text-repr-fallback\"><pre>LinearRegression()</pre><b>In a Jupyter environment, please rerun this cell to show the HTML representation or trust the notebook. <br />On GitHub, the HTML representation is unable to render, please try loading this page with nbviewer.org.</b></div><div class=\"sk-container\" hidden><div class=\"sk-item\"><div class=\"sk-estimator sk-toggleable\"><input class=\"sk-toggleable__control sk-hidden--visually\" id=\"sk-estimator-id-1\" type=\"checkbox\" checked><label for=\"sk-estimator-id-1\" class=\"sk-toggleable__label sk-toggleable__label-arrow\">LinearRegression</label><div class=\"sk-toggleable__content\"><pre>LinearRegression()</pre></div></div></div></div></div>"
            ]
          },
          "metadata": {},
          "execution_count": 18
        }
      ],
      "source": [
        "lin_reg_model.fit(X_train, y_train)"
      ]
    },
    {
      "cell_type": "markdown",
      "metadata": {
        "id": "ZwKnL6qiUrWt"
      },
      "source": [
        "The model has now been built from the training data and can be used to make predictions.<br><br>"
      ]
    },
    {
      "cell_type": "markdown",
      "metadata": {
        "id": "aUxh5P3qTOpI"
      },
      "source": [
        "Let's use the built model to calculate predictions on the test data."
      ]
    },
    {
      "cell_type": "code",
      "execution_count": 19,
      "metadata": {
        "id": "vqZSfwbXTO4x"
      },
      "outputs": [],
      "source": [
        "y_pred = lin_reg_model.predict(X_test)"
      ]
    },
    {
      "cell_type": "markdown",
      "metadata": {
        "id": "MNvi3wNLWFNv"
      },
      "source": [
        "####  **3.2. Model Evaluation**\n",
        "To evaluate our model, we will use three evaluation metrics:\n",
        "\n",
        "*   The coefficient of determination `R^2`.\n",
        "*   The Mean Absolute Error `MAE`.\n",
        "*   The Root Mean Squared Error `RMSE`.\n",
        "\n",
        "These metrics help evaluate the quality of the model's predictions by comparing the predicted values `y_pred` to the actual values `y_test`."
      ]
    },
    {
      "cell_type": "code",
      "execution_count": 20,
      "metadata": {
        "colab": {
          "base_uri": "https://localhost:8080/"
        },
        "id": "bZSBxjIQW8ji",
        "outputId": "56f397a3-770b-43ae-c4b8-e0a7e9c5e938"
      },
      "outputs": [
        {
          "output_type": "stream",
          "name": "stdout",
          "text": [
            "R^2 :  0.7077035261014379\n",
            "MAE : 2.9713555904924753\n",
            "RMSE: 3.73210599041024\n"
          ]
        }
      ],
      "source": [
        "from sklearn import metrics\n",
        "from sklearn.metrics import mean_absolute_error, r2_score, mean_squared_error\n",
        "import numpy as np\n",
        "\n",
        "# Let's calculate and display the model evaluation metrics\n",
        "print(\"R^2 : \", r2_score(y_test, y_pred))\n",
        "print(\"MAE :\", mean_absolute_error(y_test,y_pred))\n",
        "print(\"RMSE:\",np.sqrt(mean_squared_error(y_test, y_pred)))"
      ]
    },
    {
      "cell_type": "markdown",
      "metadata": {
        "id": "KjuJxsvgedGF"
      },
      "source": [
        "Based on these results, it seems that our linear regression model has moderate performance on the `FIFA 23 complete players` dataset. The coefficient of determination, `R^2`, is 0.71, indicating that the model explains approximately 71% of the variance in the data. The closer this value is to 1, the better the model performance.\n",
        "\n",
        "The other error measures, `MAE` and `RMSE`, provide an indication of the magnitude of the model's prediction errors. In our case, these values are relatively high, suggesting that the model's predictions are not very accurate.\n",
        "\n",
        "Given the unsatisfactory results of our linear regression model, we will explore other algorithms to see if we can build a more effective model."
      ]
    },
    {
      "cell_type": "markdown",
      "metadata": {
        "id": "sS4h770mhaXM"
      },
      "source": [
        "##  **4. Decision Tree Regression Model Building**"
      ]
    },
    {
      "cell_type": "markdown",
      "metadata": {
        "id": "wDr6syIN0TlP"
      },
      "source": [
        "To build a Decision Tree Regression model, we need to follow the following steps:\n",
        "\n",
        "1. Initialize a Decision Tree Regression model\n",
        "2. Train the model on the training data\n",
        "3. Calculate predictions on the test data"
      ]
    },
    {
      "cell_type": "code",
      "execution_count": 21,
      "metadata": {
        "id": "TDmIr6V5kD21"
      },
      "outputs": [],
      "source": [
        "from sklearn.tree import DecisionTreeRegressor\n",
        "\n",
        "# Let's initialize a Decision Tree Regression model with a random state of 0\n",
        "DTregressor = DecisionTreeRegressor(random_state=0)\n",
        "\n",
        "# Let's train the model on the training data\n",
        "DTregressor.fit(X_train, y_train)\n",
        "\n",
        "# Let's make predictions on the test data\n",
        "y_pred = DTregressor.predict(X_test)"
      ]
    },
    {
      "cell_type": "markdown",
      "metadata": {
        "id": "YJX2LCR1grCY"
      },
      "source": [
        "####  **4.2. Model Evaluation**"
      ]
    },
    {
      "cell_type": "code",
      "execution_count": 22,
      "metadata": {
        "colab": {
          "base_uri": "https://localhost:8080/"
        },
        "id": "D6qjRMB4fqjA",
        "outputId": "03889ce8-c425-4a50-9ede-df8c17c80b6f"
      },
      "outputs": [
        {
          "output_type": "stream",
          "name": "stdout",
          "text": [
            "R^2 :  0.9248954657466217\n",
            "MAE : 1.3770259606122852\n",
            "RMSE: 1.891800167274791\n"
          ]
        }
      ],
      "source": [
        "# Let's calculate and display the model evaluation metrics\n",
        "print(\"R^2 : \", r2_score(y_test, y_pred))\n",
        "print(\"MAE :\", mean_absolute_error(y_test,y_pred))\n",
        "print(\"RMSE:\",np.sqrt(mean_squared_error(y_test, y_pred)))"
      ]
    },
    {
      "cell_type": "markdown",
      "metadata": {
        "id": "oRyeVhTBq5Kn"
      },
      "source": [
        "The results we obtained indicate that our Decision Tree Regression model exhibits relatively good performance. The coefficient of determination, `R^2`, is 0.92, signifying that the model explains approximately 92% of the variance in the data. The closer this value is to 1, the better the model's performance.\n",
        "\n",
        "The other error measures, `MAE` and `RMSE`, provide an indication of the magnitude of the model's prediction errors. In this case, these values are relatively low, suggesting that the model's predictions are quite accurate."
      ]
    },
    {
      "cell_type": "markdown",
      "metadata": {
        "id": "KPFDkzssxGd-"
      },
      "source": [
        "## **Conclusion**\n"
      ]
    },
    {
      "cell_type": "markdown",
      "metadata": {
        "id": "XvKNgLie02gr"
      },
      "source": [
        "Our exploration of different algorithms to build an effective prediction model for predicting the overall rating of players from the 'FIFA 23 complete player' database has led us to compare a linear regression model and a decision tree model.\n",
        "\n",
        "Although our first model (linear regression)  did not yield the expected results, our second model (decision tree regression) showed better ability to predict test data. In comparison, the decision tree model appears to be a more suitable solution to our problem."
      ]
    }
  ],
  "metadata": {
    "colab": {
      "collapsed_sections": [
        "l6CIMf_W_YLl",
        "FP5-HWV0_-Yx",
        "XKEAqPQelr_P",
        "GwNlN2DhJ0Yu"
      ],
      "provenance": []
    },
    "kernelspec": {
      "display_name": "Python 3",
      "name": "python3"
    },
    "language_info": {
      "name": "python"
    }
  },
  "nbformat": 4,
  "nbformat_minor": 0
}